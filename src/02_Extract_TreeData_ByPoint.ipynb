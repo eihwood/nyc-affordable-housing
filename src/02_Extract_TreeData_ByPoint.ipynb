{
 "cells": [
  {
   "cell_type": "markdown",
   "id": "1adbbdca",
   "metadata": {},
   "source": [
    "# Tree Datasets\n",
    "\n",
    "-- Trees reduce urban heat island effects and save lives! \n",
    "https://www.epa.gov/green-infrastructure/reduce-urban-heat-island-effect\n",
    "\n",
    "From: https://www.nature.com/articles/s41597-023-02000-w#Sec8\n",
    "## Canopy Height Model (CHM)\n",
    "- Resolution: 1m spatial resolution:\n",
    "- Values: The final CHM map has values ranging from 20 to 600 dm.\n",
    "- Data Projection and Format for both CHM and Carbon Density: Both CHM and Carbon Density maps are in GeoTiff format under the NAD83 (National Spatial Reference System 2011) Universal Transverse Mercator Zone 18 North projection.\n",
    "The CHM dataset was recorded in the unit of decimetre (dm) considering the precision of the LiDAR dataset (approximately 9 cm) and was saved in integer data format. Pixels with CHM values lower than 2 m were considered as non-tree, and masked out along with other non-vegetation land cover types. Pixels with CHM larger than 60 m were also masked out as non-trees to avoid misclassification with buildings since trees larger than 60 m were unlikely to exist in NYC. \n",
    "\n",
    "## Carbon density:\n",
    "- Resolution: 1 m spatial\n",
    "- Values: 0 - 410.1 ton/ha in floats\n",
    "- Data Projection and Format: see above\n",
    "\n",
    "A carbon density map over the tree canopy covered area for the entire NYC at 1 m spatial resolution in the unit of ton/ha. The Carbon density ranged from 0 to 410.1 ton/ha in float data format. \n",
    "\n",
    "\n",
    "## Individual Tree Dataset\n",
    "- Refined polygons segmented from LiDAR-based CHM. \n",
    "- individual tree location by borough\n",
    "- Attributes table of the tree crown polygons include the tree ID, polygon area (m2), tree top height (m), tree mean height (m), tree volume (m3), and carbon storage (predicted value, lower value, and upper value in ton).\n",
    "- format: shapefiles\n",
    "\n",
    "## Kernel Density Estimates of Trees\n",
    "\n",
    "- Calculated in R tidy's st_kde() using the Individual Tree Dataset from above\n",
    "- Scaled from -1 to 1\n"
   ]
  },
  {
   "cell_type": "markdown",
   "id": "eac08d74",
   "metadata": {},
   "source": [
    "# Load Libraries"
   ]
  },
  {
   "cell_type": "code",
   "execution_count": 1,
   "id": "d8d054dc",
   "metadata": {},
   "outputs": [],
   "source": [
    "import os\n",
    "import matplotlib.pyplot as plt\n",
    "import seaborn as sns\n",
    "import numpy as np\n",
    "import numpy.ma as ma\n",
    "import pandas as pd\n",
    "import rioxarray as rxr\n",
    "import rasterio\n",
    "from rasterio import plot as rioplot\n",
    "from rasterio.plot import plotting_extent\n",
    "import geopandas as gpd\n",
    "\n",
    "import rasterstats as rs # zonalstatistics function used to extract raster values\n",
    "import earthpy as et\n",
    "import earthpy.plot as ep\n",
    "\n",
    "import uuid\n",
    "\n",
    "\n",
    "# Set consistent plotting style\n",
    "sns.set_style(\"white\")\n",
    "sns.set(font_scale=1.5)"
   ]
  },
  {
   "cell_type": "markdown",
   "id": "4c416dcc",
   "metadata": {},
   "source": [
    "# Load Rasters and Extract by Point\n",
    "- code reference: https://www.earthdatascience.org/courses/use-data-open-source-python/spatial-data-applications/lidar-remote-sensing-uncertainty/extract-data-from-raster/\n",
    "\n"
   ]
  },
  {
   "cell_type": "code",
   "execution_count": 2,
   "id": "8ebc9b44",
   "metadata": {},
   "outputs": [],
   "source": [
    "# Load the CHM geotiff\n",
    "file_name = '../data/greenness/NY_CHM_10Int260m.tif'\n",
    "\n",
    "chm = rxr.open_rasterio(file_name, masked=True).squeeze()\n",
    "\n",
    "\n",
    "# carbon density tiff\n",
    "file_name = '../data/greenness/NY_CHM529_CCset0_Carbondensity.tif'\n",
    "\n",
    "cd = rxr.open_rasterio(file_name, masked = True).squeeze()\n",
    "\n",
    "\n",
    "# crown area tiff\n",
    "file_name = '../data/L1/crown_area_ha.tiff'\n",
    "\n",
    "ca = rxr.open_rasterio(file_name, masked = True).squeeze()\n",
    "\n",
    "# tree density\n",
    "file_name = '../data/L1/KDE_subsidized_1ha_unscaled.tiff'\n",
    "\n",
    "td = rxr.open_rasterio(file_name, masked = True).squeeze()"
   ]
  },
  {
   "cell_type": "code",
   "execution_count": null,
   "id": "b0fa4423",
   "metadata": {},
   "outputs": [],
   "source": [
    "# View summary statistics of canopy height model\n",
    "print('Mean CHM (dm):', chm.mean().values)\n",
    "print('Max CHM (dm):', chm.max().values)\n",
    "print('Min CHM (dm):', chm.min().values)\n",
    "\n"
   ]
  },
  {
   "cell_type": "code",
   "execution_count": null,
   "id": "32c9ac7b",
   "metadata": {},
   "outputs": [],
   "source": [
    "# View summar statistics of the carbon density model\n",
    "print('Mean Carbon Density:', cd.mean().values)\n",
    "print('Max Carbon Density:', cd.max().values)\n",
    "print('Min Carbon Density:', cd.min().values)\n",
    "\n"
   ]
  },
  {
   "cell_type": "code",
   "execution_count": null,
   "id": "e065a54d",
   "metadata": {},
   "outputs": [],
   "source": [
    "# Plot histrogram of CHM\n",
    "\n",
    "\n",
    "# Explore the data by plotting a histogram with earthpy\n",
    "ax = ep.hist(chm.values,\n",
    "             figsize=(8, 8),\n",
    "             colors=\"green\",\n",
    "             xlabel=\"Lidar Estimated Tree Height (decimeter)\",\n",
    "             ylabel=\"Total Pixels\",\n",
    "             title=\"Distribution of Pixel Values \\n Canopy Height Model\")\n",
    "\n",
    "# Turn off scientific notation\n",
    "ax[1].ticklabel_format(useOffset=False,\n",
    "                       style='plain')"
   ]
  },
  {
   "cell_type": "code",
   "execution_count": null,
   "id": "529a75bc",
   "metadata": {},
   "outputs": [],
   "source": [
    "# Plot histrogram of carbon density\n",
    "\n",
    "\n",
    "# Explore the data by plotting a histogram with earthpy\n",
    "ax = ep.hist(cd.values,\n",
    "             figsize=(8, 8),\n",
    "             colors=\"green\",\n",
    "             xlabel=\"Carbon Density ton/ha\",\n",
    "             ylabel=\"Total Pixels\",\n",
    "             title=\"Distribution of Pixel Values \\n Carbon Density Model\")\n",
    "\n",
    "# Turn off scientific notation\n",
    "ax[1].ticklabel_format(useOffset=False,\n",
    "                       style='plain')"
   ]
  },
  {
   "cell_type": "code",
   "execution_count": 3,
   "id": "368a196c",
   "metadata": {},
   "outputs": [
    {
     "name": "stdout",
     "output_type": "stream",
     "text": [
      "Index(['Unnamed: 0', 'bbl', 'subsidy_program', 'end_date', 'standard_address',\n",
      "       'city_id', 'city_name', 'boro_id', 'boro_name', 'cd_id', 'cd_name',\n",
      "       'sba_id', 'sba_name', 'ccd_id', 'ccd_name', 'tract_10', 'res_units',\n",
      "       'year_built', 'buildings', 'assessed_value', 'owner_name',\n",
      "       'ser_violation', 'tax_delinquency', 'latitude', 'longitude',\n",
      "       'subsidy_program_full', 'URL', 'Supply_Demand', 'Category', 'Scale',\n",
      "       'Timeframe', 'Occupancy Tenure', 'Construction Type',\n",
      "       'Max Income Restriction(%AMI)', 'Occupancy Demographic',\n",
      "       'Income Designation', 'Project Eligibility', 'Developers/Owners',\n",
      "       'geometry'],\n",
      "      dtype='object')\n"
     ]
    }
   ],
   "source": [
    "# Load in affordable housing subsidy dataset as output from 01\n",
    "subsidies = pd.read_csv('../data/L1/subsidies.csv')\n",
    "print(subsidies.columns)\n",
    "# drop unnamed: 0\n",
    "subsidies = subsidies.drop(labels = 'Unnamed: 0', axis = 1)\n",
    "subsidies[\"Value Per Unit\"] = subsidies['assessed_value'] / subsidies['res_units']\n"
   ]
  },
  {
   "cell_type": "code",
   "execution_count": 4,
   "id": "165fe1a5",
   "metadata": {},
   "outputs": [],
   "source": [
    "\n",
    "\n",
    "subsidies[\"loc\"] = subsidies['standard_address'] + ' ' + subsidies[\"city_name\"]\n",
    "\n",
    "subsidies = (subsidies[[\"loc\", \"bbl\", \"subsidy_program_full\", \"Value Per Unit\", \n",
    "                        \"boro_name\", \"latitude\", \"longitude\", \"Max Income Restriction(%AMI)\",\n",
    "                       \"Occupancy Demographic\", \"Income Designation\"]])\n",
    "\n",
    "\n"
   ]
  },
  {
   "cell_type": "code",
   "execution_count": 11,
   "id": "368de06b",
   "metadata": {},
   "outputs": [],
   "source": [
    "rentstab = pd.read_csv('../data/L1/rent_stabilized_clean.csv')\n",
    "x = pd.concat([subsidies, rentstab])\n",
    "\n",
    "# create unique id\n",
    "x['row_id'] = [str(uuid.uuid4()) for _ in range(len(x.index))]"
   ]
  },
  {
   "cell_type": "code",
   "execution_count": 12,
   "id": "36d32b61",
   "metadata": {},
   "outputs": [
    {
     "data": {
      "text/html": [
       "<div>\n",
       "<style scoped>\n",
       "    .dataframe tbody tr th:only-of-type {\n",
       "        vertical-align: middle;\n",
       "    }\n",
       "\n",
       "    .dataframe tbody tr th {\n",
       "        vertical-align: top;\n",
       "    }\n",
       "\n",
       "    .dataframe thead th {\n",
       "        text-align: right;\n",
       "    }\n",
       "</style>\n",
       "<table border=\"1\" class=\"dataframe\">\n",
       "  <thead>\n",
       "    <tr style=\"text-align: right;\">\n",
       "      <th></th>\n",
       "      <th>loc</th>\n",
       "      <th>bbl</th>\n",
       "      <th>subsidy_program_full</th>\n",
       "      <th>Value Per Unit</th>\n",
       "      <th>boro_name</th>\n",
       "      <th>latitude</th>\n",
       "      <th>longitude</th>\n",
       "      <th>Max Income Restriction(%AMI)</th>\n",
       "      <th>Occupancy Demographic</th>\n",
       "      <th>Income Designation</th>\n",
       "      <th>row_id</th>\n",
       "      <th>geometry</th>\n",
       "    </tr>\n",
       "  </thead>\n",
       "  <tbody>\n",
       "    <tr>\n",
       "      <th>0</th>\n",
       "      <td>80 Rutgers Slip New York City</td>\n",
       "      <td>1.002480e+09</td>\n",
       "      <td>Section 202/8</td>\n",
       "      <td>51766.513761</td>\n",
       "      <td>Manhattan</td>\n",
       "      <td>40.710802</td>\n",
       "      <td>-73.990193</td>\n",
       "      <td>50</td>\n",
       "      <td>Seniors; Persons with Disabilities</td>\n",
       "      <td>Very Low-income</td>\n",
       "      <td>413ac678-1129-48a8-9c80-a1102160ac58</td>\n",
       "      <td>POINT (585297.142 4507144.438)</td>\n",
       "    </tr>\n",
       "    <tr>\n",
       "      <th>1</th>\n",
       "      <td>80 Rutgers Slip New York City</td>\n",
       "      <td>1.002480e+09</td>\n",
       "      <td>420-c Tax Incentive Program</td>\n",
       "      <td>51766.513761</td>\n",
       "      <td>Manhattan</td>\n",
       "      <td>40.710802</td>\n",
       "      <td>-73.990193</td>\n",
       "      <td>60</td>\n",
       "      <td>Homeless; Persons with Disabilities; Families</td>\n",
       "      <td>Low-income</td>\n",
       "      <td>139d3af3-9d69-413d-869f-cfe785694af9</td>\n",
       "      <td>POINT (585297.142 4507144.438)</td>\n",
       "    </tr>\n",
       "    <tr>\n",
       "      <th>2</th>\n",
       "      <td>80 Rutgers Slip New York City</td>\n",
       "      <td>1.002480e+09</td>\n",
       "      <td>LIHTC 4%</td>\n",
       "      <td>51766.513761</td>\n",
       "      <td>Manhattan</td>\n",
       "      <td>40.710802</td>\n",
       "      <td>-73.990193</td>\n",
       "      <td>60</td>\n",
       "      <td>All Eligable</td>\n",
       "      <td>Very Low-income, Low-income</td>\n",
       "      <td>0cabc93a-2138-4a1d-89d0-1c56c166c59e</td>\n",
       "      <td>POINT (585297.142 4507144.438)</td>\n",
       "    </tr>\n",
       "    <tr>\n",
       "      <th>3</th>\n",
       "      <td>15 Bialystoker Place New York City</td>\n",
       "      <td>1.003360e+09</td>\n",
       "      <td>Section 202/8</td>\n",
       "      <td>68058.984375</td>\n",
       "      <td>Manhattan</td>\n",
       "      <td>40.715819</td>\n",
       "      <td>-73.983302</td>\n",
       "      <td>50</td>\n",
       "      <td>Seniors; Persons with Disabilities</td>\n",
       "      <td>Very Low-income</td>\n",
       "      <td>65253d04-172f-42b8-bf2d-c7d515ca68ff</td>\n",
       "      <td>POINT (585872.753 4507708.039)</td>\n",
       "    </tr>\n",
       "    <tr>\n",
       "      <th>4</th>\n",
       "      <td>15 Bialystoker Place New York City</td>\n",
       "      <td>1.003360e+09</td>\n",
       "      <td>LIHTC 4%</td>\n",
       "      <td>68058.984375</td>\n",
       "      <td>Manhattan</td>\n",
       "      <td>40.715819</td>\n",
       "      <td>-73.983302</td>\n",
       "      <td>60</td>\n",
       "      <td>All Eligable</td>\n",
       "      <td>Very Low-income, Low-income</td>\n",
       "      <td>0e6dd263-2e39-4479-b3bc-b1fd94574a5d</td>\n",
       "      <td>POINT (585872.753 4507708.039)</td>\n",
       "    </tr>\n",
       "  </tbody>\n",
       "</table>\n",
       "</div>"
      ],
      "text/plain": [
       "                                  loc           bbl  \\\n",
       "0       80 Rutgers Slip New York City  1.002480e+09   \n",
       "1       80 Rutgers Slip New York City  1.002480e+09   \n",
       "2       80 Rutgers Slip New York City  1.002480e+09   \n",
       "3  15 Bialystoker Place New York City  1.003360e+09   \n",
       "4  15 Bialystoker Place New York City  1.003360e+09   \n",
       "\n",
       "          subsidy_program_full  Value Per Unit  boro_name   latitude  \\\n",
       "0                Section 202/8    51766.513761  Manhattan  40.710802   \n",
       "1  420-c Tax Incentive Program    51766.513761  Manhattan  40.710802   \n",
       "2                     LIHTC 4%    51766.513761  Manhattan  40.710802   \n",
       "3                Section 202/8    68058.984375  Manhattan  40.715819   \n",
       "4                     LIHTC 4%    68058.984375  Manhattan  40.715819   \n",
       "\n",
       "   longitude Max Income Restriction(%AMI)  \\\n",
       "0 -73.990193                           50   \n",
       "1 -73.990193                           60   \n",
       "2 -73.990193                           60   \n",
       "3 -73.983302                           50   \n",
       "4 -73.983302                           60   \n",
       "\n",
       "                           Occupancy Demographic           Income Designation  \\\n",
       "0             Seniors; Persons with Disabilities              Very Low-income   \n",
       "1  Homeless; Persons with Disabilities; Families                   Low-income   \n",
       "2                                   All Eligable  Very Low-income, Low-income   \n",
       "3             Seniors; Persons with Disabilities              Very Low-income   \n",
       "4                                   All Eligable  Very Low-income, Low-income   \n",
       "\n",
       "                                 row_id                        geometry  \n",
       "0  413ac678-1129-48a8-9c80-a1102160ac58  POINT (585297.142 4507144.438)  \n",
       "1  139d3af3-9d69-413d-869f-cfe785694af9  POINT (585297.142 4507144.438)  \n",
       "2  0cabc93a-2138-4a1d-89d0-1c56c166c59e  POINT (585297.142 4507144.438)  \n",
       "3  65253d04-172f-42b8-bf2d-c7d515ca68ff  POINT (585872.753 4507708.039)  \n",
       "4  0e6dd263-2e39-4479-b3bc-b1fd94574a5d  POINT (585872.753 4507708.039)  "
      ]
     },
     "execution_count": 12,
     "metadata": {},
     "output_type": "execute_result"
    }
   ],
   "source": [
    "# Convert to spatial points\n",
    "gdf = gpd.GeoDataFrame(x, geometry = gpd.points_from_xy(x['longitude'], x['latitude']), \n",
    "                                 crs = 4326)\n",
    "\n",
    "\n",
    "type(gdf)\n",
    "\n",
    "# Convert to the same projection as the canopy height and carbon density models: \n",
    "# NAD83 (National Spatial Reference System 2011) Universal Transverse Mercator Zone 18 North projection\n",
    "# ESPG: https://epsg.io/6347 - 6347\n",
    "\n",
    "gdf.to_crs(crs = 6347, inplace = True)\n",
    "\n",
    "# ensure that is a points layer in the UTM projection\n",
    "gdf.head()"
   ]
  },
  {
   "cell_type": "markdown",
   "id": "99214109",
   "metadata": {},
   "source": [
    "# Overlay points on top of raster data\n",
    "A quick plot to check that subsidies actually overlay on top of the canopy height model. \n",
    "This is a good sanity check just to ensure data are in appropriate projection and location.\n",
    "\n",
    "We have previously discussed the spatial extent of a raster. Here is where you will need to set the spatial extent when plotting raster using ep.plot_bands. If you do not specify a spatial extent, your raster will not line up properly with your geopandas object."
   ]
  },
  {
   "cell_type": "code",
   "execution_count": null,
   "id": "ef507924",
   "metadata": {},
   "outputs": [],
   "source": [
    "fig, ax = plt.subplots(figsize=(10, 10))\n",
    "\n",
    "# We plot with the zeros in the data so the CHM can be better represented visually\n",
    "ep.plot_bands(chm,\n",
    "              extent=plotting_extent(chm,\n",
    "                                     chm.rio.transform()),  # Set spatial extent\n",
    "              cmap='Greys',\n",
    "              title=\"NYC Canopy Height \\n Subsidized Housing Locations\",\n",
    "              scale=False,\n",
    "              ax=ax)\n",
    "gdf.plot(ax=ax,\n",
    "         marker='s',\n",
    "         markersize=45,\n",
    "         color='purple')\n",
    "ax.set_axis_off()\n",
    "plt.show()"
   ]
  },
  {
   "cell_type": "markdown",
   "id": "bcd640b0",
   "metadata": {},
   "source": [
    "# Buffer points and extract raster values\n",
    "### Create buffer points with radius 500m (roughly equivalent to 1-2 city block)"
   ]
  },
  {
   "cell_type": "code",
   "execution_count": 13,
   "id": "3a83ea82",
   "metadata": {},
   "outputs": [
    {
     "name": "stderr",
     "output_type": "stream",
     "text": [
      "/Users/eihwood/opt/anaconda3/lib/python3.9/site-packages/geopandas/geodataframe.py:1443: SettingWithCopyWarning: \n",
      "A value is trying to be set on a copy of a slice from a DataFrame.\n",
      "Try using .loc[row_indexer,col_indexer] = value instead\n",
      "\n",
      "See the caveats in the documentation: https://pandas.pydata.org/pandas-docs/stable/user_guide/indexing.html#returning-a-view-versus-a-copy\n",
      "  super().__setitem__(key, value)\n"
     ]
    },
    {
     "name": "stdout",
     "output_type": "stream",
     "text": [
      "53597\n"
     ]
    }
   ],
   "source": [
    "# Create a buffered polygon layer from subsidized housing points\n",
    "buffer = gdf[['row_id', 'geometry']]\n",
    "\n",
    "# Buffer each point using a 500 meter circle radius\n",
    "# and replace the point geometry with the new buffered geometry\n",
    "buffer[\"geometry\"] = gdf.geometry.buffer(500)\n",
    "buffer.head()\n",
    "\n",
    "# EXPORT to new shapefile\n",
    "\n",
    "\n",
    "# Export the buffered point layer as a shapefile to use in zonal stats\n",
    "subsidies_buffer_path = os.path.join('../data/L1/', \n",
    "                                \"subsidies_buffer.shp\")\n",
    "\n",
    "buffer.to_file(subsidies_buffer_path)\n",
    "print(len(buffer))"
   ]
  },
  {
   "cell_type": "markdown",
   "id": "2091bdca",
   "metadata": {},
   "source": [
    "### Extract pixel values of CHM for each buffer zone (identified by unique BBL)"
   ]
  },
  {
   "cell_type": "code",
   "execution_count": null,
   "id": "965dfff3",
   "metadata": {},
   "outputs": [],
   "source": [
    "np.nanmean(chm.values)"
   ]
  },
  {
   "cell_type": "code",
   "execution_count": 14,
   "id": "e38d283e",
   "metadata": {},
   "outputs": [
    {
     "name": "stderr",
     "output_type": "stream",
     "text": [
      "/Users/eihwood/opt/anaconda3/lib/python3.9/site-packages/rasterstats/io.py:335: NodataWarning: Setting nodata to -999; specify nodata explicitly\n",
      "  warnings.warn(\n"
     ]
    },
    {
     "data": {
      "text/plain": [
       "list"
      ]
     },
     "execution_count": 14,
     "metadata": {},
     "output_type": "execute_result"
    }
   ],
   "source": [
    "# Extract zonal stats from chm\n",
    "extracted_chm = rs.zonal_stats(subsidies_buffer_path,\n",
    "                                   chm.values,\n",
    "                                   affine=chm.rio.transform(),\n",
    "                                   geojson_out=True,\n",
    "                                   copy_properties=True,\n",
    "                                   stats=\"count min mean max median\")\n",
    "\n",
    "# View object type\n",
    "type(extracted_chm)"
   ]
  },
  {
   "cell_type": "code",
   "execution_count": 15,
   "id": "3191ca10",
   "metadata": {},
   "outputs": [],
   "source": [
    "# Turn extracted data into a pandas geodataframe\n",
    "chm_df = gpd.GeoDataFrame.from_features(extracted_chm)\n",
    "\n"
   ]
  },
  {
   "cell_type": "code",
   "execution_count": 16,
   "id": "5ddc2d24",
   "metadata": {},
   "outputs": [],
   "source": [
    "pd.set_option('display.max_columns', None)\n",
    "chm_df.head()\n",
    "\n",
    "chm_df = chm_df.rename(columns = {\"min\": \"chm_min\",\n",
    "                      \"max\": \"chm_max\",\n",
    "                      \"mean\": \"chm_mean\",\n",
    "                      \"median\": \"chm_median\",\n",
    "                        \"count\": \"chm_count\"})"
   ]
  },
  {
   "cell_type": "code",
   "execution_count": 18,
   "id": "9537166c",
   "metadata": {},
   "outputs": [
    {
     "data": {
      "text/plain": [
       "53597"
      ]
     },
     "execution_count": 18,
     "metadata": {},
     "output_type": "execute_result"
    }
   ],
   "source": [
    "len(chm_df)"
   ]
  },
  {
   "cell_type": "markdown",
   "id": "277f109c",
   "metadata": {},
   "source": [
    "### Extract pixel values of Carbon Density for each buffer zone (identified by unique loc)"
   ]
  },
  {
   "cell_type": "code",
   "execution_count": 19,
   "id": "36b8f18b",
   "metadata": {},
   "outputs": [
    {
     "data": {
      "text/plain": [
       "list"
      ]
     },
     "execution_count": 19,
     "metadata": {},
     "output_type": "execute_result"
    }
   ],
   "source": [
    "# Extract zonal stats from chm\n",
    "extracted_cd = rs.zonal_stats(subsidies_buffer_path,\n",
    "                                   cd.values,\n",
    "                                   affine=cd.rio.transform(),\n",
    "                                   geojson_out=True,\n",
    "                                   copy_properties=True,\n",
    "                                   stats=\"count min mean max median\")\n",
    "\n",
    "# View object type\n",
    "type(extracted_cd)"
   ]
  },
  {
   "cell_type": "code",
   "execution_count": 20,
   "id": "30eb4a27",
   "metadata": {},
   "outputs": [],
   "source": [
    "# Turn extracted data into a pandas geodataframe\n",
    "cd_df = gpd.GeoDataFrame.from_features(extracted_cd)\n",
    "\n",
    "\n",
    "\n",
    "cd_df = cd_df.rename(columns = {\"min\": \"cd_min\",\n",
    "                      \"max\": \"cd_max\",\n",
    "                      \"mean\": \"cd_mean\",\n",
    "                      \"median\": \"cd_median\",\n",
    "                    \"count\": \"cd_count\"})"
   ]
  },
  {
   "cell_type": "markdown",
   "id": "62763b87",
   "metadata": {},
   "source": [
    "### Extract pixel values of Crown Area for each buffer zone (identified by unique loc)\n"
   ]
  },
  {
   "cell_type": "code",
   "execution_count": 21,
   "id": "b4b2fbb4",
   "metadata": {},
   "outputs": [],
   "source": [
    "# Extract zonal stats from chm\n",
    "extracted_ca = rs.zonal_stats(subsidies_buffer_path,\n",
    "                                   ca.values,\n",
    "                                   affine=ca.rio.transform(),\n",
    "                                   geojson_out=True,\n",
    "                                   copy_properties=True,\n",
    "                                   stats=\"count min mean max median\")\n",
    "\n"
   ]
  },
  {
   "cell_type": "code",
   "execution_count": 22,
   "id": "77ce6181",
   "metadata": {},
   "outputs": [],
   "source": [
    "# Turn extracted data into a pandas geodataframe\n",
    "ca_df = gpd.GeoDataFrame.from_features(extracted_ca)\n",
    "\n",
    "\n",
    "\n",
    "ca_df = ca_df.rename(columns = {\"min\": \"ca_min\",\n",
    "                      \"max\": \"ca_max\",\n",
    "                      \"mean\": \"ca_mean\",\n",
    "                      \"median\": \"ca_median\",\n",
    "                    \"count\": \"ca_count\"})"
   ]
  },
  {
   "cell_type": "markdown",
   "id": "4cfcfaf2",
   "metadata": {},
   "source": [
    "### Extract pixel values of Tree density for each buffer zone (identified by unique loc)\n"
   ]
  },
  {
   "cell_type": "code",
   "execution_count": 23,
   "id": "47469d2b",
   "metadata": {},
   "outputs": [],
   "source": [
    "# Extract zonal stats from chm\n",
    "extracted_td = rs.zonal_stats(subsidies_buffer_path,\n",
    "                                   td.values,\n",
    "                                   affine=td.rio.transform(),\n",
    "                                   geojson_out=True,\n",
    "                                   copy_properties=True,\n",
    "                                   stats=\"min mean max median\")"
   ]
  },
  {
   "cell_type": "code",
   "execution_count": 24,
   "id": "e331a026",
   "metadata": {},
   "outputs": [],
   "source": [
    "# Turn extracted data into a pandas geodataframe\n",
    "td_df = gpd.GeoDataFrame.from_features(extracted_td)\n",
    "\n",
    "\n",
    "\n",
    "td_df = td_df.rename(columns = {\"min\": \"td_min\",\n",
    "                      \"max\": \"td_max\",\n",
    "                      \"mean\": \"td_mean\",\n",
    "                      \"median\": \"td_median\"})\n"
   ]
  },
  {
   "cell_type": "code",
   "execution_count": 25,
   "id": "0ecd2e1c",
   "metadata": {},
   "outputs": [],
   "source": [
    "# merge\n",
    "cd_df = cd_df.drop(labels = 'geometry', axis = 1)\n",
    "td_df = td_df.drop(labels = 'geometry', axis = 1)\n",
    "ca_df = ca_df.drop(labels = 'geometry', axis = 1)\n",
    "\n"
   ]
  },
  {
   "cell_type": "code",
   "execution_count": 26,
   "id": "c41f21e2",
   "metadata": {},
   "outputs": [
    {
     "data": {
      "text/html": [
       "<div>\n",
       "<style scoped>\n",
       "    .dataframe tbody tr th:only-of-type {\n",
       "        vertical-align: middle;\n",
       "    }\n",
       "\n",
       "    .dataframe tbody tr th {\n",
       "        vertical-align: top;\n",
       "    }\n",
       "\n",
       "    .dataframe thead th {\n",
       "        text-align: right;\n",
       "    }\n",
       "</style>\n",
       "<table border=\"1\" class=\"dataframe\">\n",
       "  <thead>\n",
       "    <tr style=\"text-align: right;\">\n",
       "      <th></th>\n",
       "      <th>geometry</th>\n",
       "      <th>row_id</th>\n",
       "      <th>chm_min</th>\n",
       "      <th>chm_max</th>\n",
       "      <th>chm_mean</th>\n",
       "      <th>chm_count</th>\n",
       "      <th>chm_median</th>\n",
       "      <th>cd_min</th>\n",
       "      <th>cd_max</th>\n",
       "      <th>cd_mean</th>\n",
       "      <th>cd_count</th>\n",
       "      <th>cd_median</th>\n",
       "      <th>td_min</th>\n",
       "      <th>td_max</th>\n",
       "      <th>td_mean</th>\n",
       "      <th>td_median</th>\n",
       "      <th>ca_min</th>\n",
       "      <th>ca_max</th>\n",
       "      <th>ca_mean</th>\n",
       "      <th>ca_count</th>\n",
       "      <th>ca_median</th>\n",
       "    </tr>\n",
       "  </thead>\n",
       "  <tbody>\n",
       "    <tr>\n",
       "      <th>0</th>\n",
       "      <td>POLYGON ((585797.142 4507144.438, 585794.734 4...</td>\n",
       "      <td>413ac678-1129-48a8-9c80-a1102160ac58</td>\n",
       "      <td>21.0</td>\n",
       "      <td>593.0</td>\n",
       "      <td>132.516677</td>\n",
       "      <td>93753</td>\n",
       "      <td>134.0</td>\n",
       "      <td>0.0</td>\n",
       "      <td>409.264862</td>\n",
       "      <td>13.028841</td>\n",
       "      <td>784134</td>\n",
       "      <td>0.0</td>\n",
       "      <td>2.761813e-09</td>\n",
       "      <td>4.268787e-09</td>\n",
       "      <td>3.786921e-09</td>\n",
       "      <td>3.940875e-09</td>\n",
       "      <td>0.00</td>\n",
       "      <td>66.58</td>\n",
       "      <td>15.846250</td>\n",
       "      <td>80</td>\n",
       "      <td>7.090</td>\n",
       "    </tr>\n",
       "    <tr>\n",
       "      <th>1</th>\n",
       "      <td>POLYGON ((585797.142 4507144.438, 585794.734 4...</td>\n",
       "      <td>139d3af3-9d69-413d-869f-cfe785694af9</td>\n",
       "      <td>21.0</td>\n",
       "      <td>593.0</td>\n",
       "      <td>132.516677</td>\n",
       "      <td>93753</td>\n",
       "      <td>134.0</td>\n",
       "      <td>0.0</td>\n",
       "      <td>409.264862</td>\n",
       "      <td>13.028841</td>\n",
       "      <td>784134</td>\n",
       "      <td>0.0</td>\n",
       "      <td>2.761813e-09</td>\n",
       "      <td>4.268787e-09</td>\n",
       "      <td>3.786921e-09</td>\n",
       "      <td>3.940875e-09</td>\n",
       "      <td>0.00</td>\n",
       "      <td>66.58</td>\n",
       "      <td>15.846250</td>\n",
       "      <td>80</td>\n",
       "      <td>7.090</td>\n",
       "    </tr>\n",
       "    <tr>\n",
       "      <th>2</th>\n",
       "      <td>POLYGON ((585797.142 4507144.438, 585794.734 4...</td>\n",
       "      <td>0cabc93a-2138-4a1d-89d0-1c56c166c59e</td>\n",
       "      <td>21.0</td>\n",
       "      <td>593.0</td>\n",
       "      <td>132.516677</td>\n",
       "      <td>93753</td>\n",
       "      <td>134.0</td>\n",
       "      <td>0.0</td>\n",
       "      <td>409.264862</td>\n",
       "      <td>13.028841</td>\n",
       "      <td>784134</td>\n",
       "      <td>0.0</td>\n",
       "      <td>2.761813e-09</td>\n",
       "      <td>4.268787e-09</td>\n",
       "      <td>3.786921e-09</td>\n",
       "      <td>3.940875e-09</td>\n",
       "      <td>0.00</td>\n",
       "      <td>66.58</td>\n",
       "      <td>15.846250</td>\n",
       "      <td>80</td>\n",
       "      <td>7.090</td>\n",
       "    </tr>\n",
       "    <tr>\n",
       "      <th>3</th>\n",
       "      <td>POLYGON ((586372.753 4507708.039, 586370.346 4...</td>\n",
       "      <td>65253d04-172f-42b8-bf2d-c7d515ca68ff</td>\n",
       "      <td>21.0</td>\n",
       "      <td>591.0</td>\n",
       "      <td>130.942872</td>\n",
       "      <td>161059</td>\n",
       "      <td>132.0</td>\n",
       "      <td>0.0</td>\n",
       "      <td>409.797943</td>\n",
       "      <td>22.097860</td>\n",
       "      <td>784143</td>\n",
       "      <td>0.0</td>\n",
       "      <td>6.843389e-10</td>\n",
       "      <td>3.386331e-09</td>\n",
       "      <td>1.933353e-09</td>\n",
       "      <td>1.878053e-09</td>\n",
       "      <td>1.94</td>\n",
       "      <td>64.92</td>\n",
       "      <td>28.787375</td>\n",
       "      <td>80</td>\n",
       "      <td>28.025</td>\n",
       "    </tr>\n",
       "    <tr>\n",
       "      <th>4</th>\n",
       "      <td>POLYGON ((586372.753 4507708.039, 586370.346 4...</td>\n",
       "      <td>0e6dd263-2e39-4479-b3bc-b1fd94574a5d</td>\n",
       "      <td>21.0</td>\n",
       "      <td>591.0</td>\n",
       "      <td>130.942872</td>\n",
       "      <td>161059</td>\n",
       "      <td>132.0</td>\n",
       "      <td>0.0</td>\n",
       "      <td>409.797943</td>\n",
       "      <td>22.097860</td>\n",
       "      <td>784143</td>\n",
       "      <td>0.0</td>\n",
       "      <td>6.843389e-10</td>\n",
       "      <td>3.386331e-09</td>\n",
       "      <td>1.933353e-09</td>\n",
       "      <td>1.878053e-09</td>\n",
       "      <td>1.94</td>\n",
       "      <td>64.92</td>\n",
       "      <td>28.787375</td>\n",
       "      <td>80</td>\n",
       "      <td>28.025</td>\n",
       "    </tr>\n",
       "  </tbody>\n",
       "</table>\n",
       "</div>"
      ],
      "text/plain": [
       "                                            geometry  \\\n",
       "0  POLYGON ((585797.142 4507144.438, 585794.734 4...   \n",
       "1  POLYGON ((585797.142 4507144.438, 585794.734 4...   \n",
       "2  POLYGON ((585797.142 4507144.438, 585794.734 4...   \n",
       "3  POLYGON ((586372.753 4507708.039, 586370.346 4...   \n",
       "4  POLYGON ((586372.753 4507708.039, 586370.346 4...   \n",
       "\n",
       "                                 row_id  chm_min  chm_max    chm_mean  \\\n",
       "0  413ac678-1129-48a8-9c80-a1102160ac58     21.0    593.0  132.516677   \n",
       "1  139d3af3-9d69-413d-869f-cfe785694af9     21.0    593.0  132.516677   \n",
       "2  0cabc93a-2138-4a1d-89d0-1c56c166c59e     21.0    593.0  132.516677   \n",
       "3  65253d04-172f-42b8-bf2d-c7d515ca68ff     21.0    591.0  130.942872   \n",
       "4  0e6dd263-2e39-4479-b3bc-b1fd94574a5d     21.0    591.0  130.942872   \n",
       "\n",
       "   chm_count  chm_median  cd_min      cd_max    cd_mean  cd_count  cd_median  \\\n",
       "0      93753       134.0     0.0  409.264862  13.028841    784134        0.0   \n",
       "1      93753       134.0     0.0  409.264862  13.028841    784134        0.0   \n",
       "2      93753       134.0     0.0  409.264862  13.028841    784134        0.0   \n",
       "3     161059       132.0     0.0  409.797943  22.097860    784143        0.0   \n",
       "4     161059       132.0     0.0  409.797943  22.097860    784143        0.0   \n",
       "\n",
       "         td_min        td_max       td_mean     td_median  ca_min  ca_max  \\\n",
       "0  2.761813e-09  4.268787e-09  3.786921e-09  3.940875e-09    0.00   66.58   \n",
       "1  2.761813e-09  4.268787e-09  3.786921e-09  3.940875e-09    0.00   66.58   \n",
       "2  2.761813e-09  4.268787e-09  3.786921e-09  3.940875e-09    0.00   66.58   \n",
       "3  6.843389e-10  3.386331e-09  1.933353e-09  1.878053e-09    1.94   64.92   \n",
       "4  6.843389e-10  3.386331e-09  1.933353e-09  1.878053e-09    1.94   64.92   \n",
       "\n",
       "     ca_mean  ca_count  ca_median  \n",
       "0  15.846250        80      7.090  \n",
       "1  15.846250        80      7.090  \n",
       "2  15.846250        80      7.090  \n",
       "3  28.787375        80     28.025  \n",
       "4  28.787375        80     28.025  "
      ]
     },
     "execution_count": 26,
     "metadata": {},
     "output_type": "execute_result"
    }
   ],
   "source": [
    "df_merge = pd.merge(chm_df, cd_df, left_on='row_id', right_on='row_id')\n",
    "df_merge = pd.merge(df_merge, td_df, left_on='row_id', right_on='row_id')\n",
    "df_merge = pd.merge(df_merge, ca_df, left_on='row_id', right_on='row_id')\n",
    "\n",
    "df_merge.head()"
   ]
  },
  {
   "cell_type": "code",
   "execution_count": null,
   "id": "6f37a82a",
   "metadata": {},
   "outputs": [],
   "source": []
  },
  {
   "cell_type": "code",
   "execution_count": 27,
   "id": "6eac142a",
   "metadata": {},
   "outputs": [],
   "source": [
    "# Merge back with subsidy data based on bbl\n",
    "\n",
    "subsidy_with_green = pd.merge(x, df_merge, left_on = 'row_id', right_on = 'row_id')"
   ]
  },
  {
   "cell_type": "code",
   "execution_count": 29,
   "id": "7d468090",
   "metadata": {},
   "outputs": [],
   "source": [
    "subsidy_with_green.to_csv(\"../data/L1/subsidies_with_tree_data.csv\")"
   ]
  },
  {
   "cell_type": "code",
   "execution_count": 28,
   "id": "bf5071de",
   "metadata": {},
   "outputs": [
    {
     "data": {
      "text/plain": [
       "53597"
      ]
     },
     "execution_count": 28,
     "metadata": {},
     "output_type": "execute_result"
    }
   ],
   "source": [
    "len(subsidy_with_green)"
   ]
  }
 ],
 "metadata": {
  "kernelspec": {
   "display_name": "Python 3 (ipykernel)",
   "language": "python",
   "name": "python3"
  },
  "language_info": {
   "codemirror_mode": {
    "name": "ipython",
    "version": 3
   },
   "file_extension": ".py",
   "mimetype": "text/x-python",
   "name": "python",
   "nbconvert_exporter": "python",
   "pygments_lexer": "ipython3",
   "version": "3.9.13"
  }
 },
 "nbformat": 4,
 "nbformat_minor": 5
}

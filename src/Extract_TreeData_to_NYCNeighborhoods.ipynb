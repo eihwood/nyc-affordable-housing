{
 "cells": [
  {
   "cell_type": "markdown",
   "id": "36922374",
   "metadata": {},
   "source": [
    "### Load Libraries"
   ]
  },
  {
   "cell_type": "code",
   "execution_count": 5,
   "id": "5f886a55",
   "metadata": {},
   "outputs": [],
   "source": [
    "import os\n",
    "import math\n",
    "import matplotlib.pyplot as plt\n",
    "import seaborn as sns\n",
    "import numpy as np\n",
    "import numpy.ma as ma\n",
    "import pandas as pd\n",
    "import rioxarray as rxr\n",
    "import rasterio\n",
    "from rasterio import plot as rioplot\n",
    "from rasterio.plot import plotting_extent\n",
    "import geopandas as gpd\n",
    "\n",
    "import rasterstats as rs # zonalstatistics function used to extract raster values\n",
    "import earthpy as et\n",
    "import earthpy.plot as ep\n",
    "\n",
    "import uuid\n"
   ]
  },
  {
   "cell_type": "markdown",
   "id": "21f79e76",
   "metadata": {},
   "source": [
    "### Load Raster Layers - Tree Data"
   ]
  },
  {
   "cell_type": "code",
   "execution_count": 6,
   "id": "6dd766a1",
   "metadata": {},
   "outputs": [],
   "source": [
    "# Load the CHM geotiff\n",
    "file_name = '../data/greenness/NY_CHM_10Int260m.tif'\n",
    "chm = rxr.open_rasterio(file_name, masked=True).squeeze()\n",
    "\n",
    "# carbon density tiff\n",
    "file_name = '../data/greenness/NY_CHM529_CCset0_Carbondensity.tif'\n",
    "cd = rxr.open_rasterio(file_name, masked = True).squeeze()\n",
    "# CD is really zero inflated which will impact zonal stats - set 0 equal to NaN\n",
    "cd = cd.where(cd != 0, np.nan)\n",
    "\n",
    "# crown area tiff\n",
    "file_name = '../data/L1/crown_area_ha.tiff'\n",
    "ca = rxr.open_rasterio(file_name, masked = True).squeeze()\n",
    "\n"
   ]
  },
  {
   "cell_type": "code",
   "execution_count": 7,
   "id": "a775aea7",
   "metadata": {},
   "outputs": [],
   "source": [
    "# tree density\n",
    "file_name = '../data/L1/tree_kde_dens_1ha_scaled.tiff'\n",
    "td = rxr.open_rasterio(file_name, masked = True).squeeze()"
   ]
  },
  {
   "cell_type": "code",
   "execution_count": 8,
   "id": "3e191b65",
   "metadata": {},
   "outputs": [],
   "source": [
    "# heat anomalies\n",
    "file_name = '../data/heat/f_deviation_smooth_UTM18N_1ha.tiff'\n",
    "ha = rxr.open_rasterio(file_name, masked = True).squeeze()"
   ]
  },
  {
   "cell_type": "markdown",
   "id": "71f492b0",
   "metadata": {},
   "source": [
    "### Load Raster Layers - Housing Density"
   ]
  },
  {
   "cell_type": "code",
   "execution_count": 25,
   "id": "6c066908",
   "metadata": {},
   "outputs": [],
   "source": [
    "# Subsidized Kernel Density - Scaled\n",
    "file_name = '../data/L1/KDE_subsidized_1ha_scaled.tiff'\n",
    "sub_kde_scaled = rxr.open_rasterio(file_name, masked=True).squeeze()\n",
    "\n",
    "# Rent Stabilized Kernel Density - Scaled\n",
    "file_name = '../data/L1/KDE_RentStabilized_1ha_scaled.tiff'\n",
    "rstab_kde_scaled = rxr.open_rasterio(file_name, masked=True).squeeze()\n",
    "\n",
    "# All affordable housing\n",
    "file_name = '../data/L1/KDE_allaffordable_1ha_scaled_match.tiff'\n",
    "aff_kde_scaled = rxr.open_rasterio(file_name, masked=True).squeeze()"
   ]
  },
  {
   "cell_type": "markdown",
   "id": "0ff71e9b",
   "metadata": {},
   "source": [
    "### Load the NYC Neighborhood Tabulation Areas (NTAs)\n",
    "\n",
    "- https://www.nyc.gov/assets/planning/download/pdf/planning-level/nyc-population/census2010/ntas.pdf\n",
    "\n",
    "Neighborhood Tabulation Areas or NTAs, are aggregations of\n",
    "census tracts that are subsets of New York City's 55 Public Use\n",
    "Microdata Areas (PUMAs). Primarily due to these constraints,\n",
    "NTA boundaries and their associated names may not definitively\n",
    "represent neighborhoods."
   ]
  },
  {
   "cell_type": "code",
   "execution_count": 10,
   "id": "bf0c9b39",
   "metadata": {},
   "outputs": [],
   "source": [
    "nta = gpd.read_file(\"../data/2010 Neighborhood Tabulation Areas (NTAs)/\", layer = \"geo_export_65077844-70de-4bb7-91ce-729f59546bad\")\n",
    "nta.to_crs(epsg=6347, inplace=True)"
   ]
  },
  {
   "cell_type": "markdown",
   "id": "7aafdbe5",
   "metadata": {},
   "source": [
    "### Extract Values to NTAs"
   ]
  },
  {
   "cell_type": "code",
   "execution_count": 11,
   "id": "86e1f77c",
   "metadata": {},
   "outputs": [],
   "source": [
    "# If the dir does not exist, create it\n",
    "output_path = os.path.join(\"../data/L1/\", \n",
    "                           \"outputs\")\n",
    "\n",
    "if not os.path.isdir(output_path):\n",
    "    os.mkdir(output_path)\n",
    "\n",
    "# Export the buffered point layer as a shapefile to use in zonal stats\n",
    "NTA_path = os.path.join(output_path, \n",
    "                                \"NTA_EPSG6347.shp\")\n",
    "nta = nta[[\"ntacode\", \"geometry\"]]\n",
    "nta.to_file(NTA_path)"
   ]
  },
  {
   "cell_type": "code",
   "execution_count": 12,
   "id": "e2d56c05",
   "metadata": {},
   "outputs": [],
   "source": [
    "# Extract NTA zonal stats from canopy height model\n",
    "# Extract zonal stats from chm\n",
    "extracted_chm = rs.zonal_stats(NTA_path,\n",
    "                               chm.values,\n",
    "                               affine=chm.rio.transform(),\n",
    "                               nodata = -math.inf,\n",
    "                               geojson_out=True,\n",
    "                               copy_properties=True,\n",
    "                               stats=\"min mean max median percentile_25 percentile_75\")"
   ]
  },
  {
   "cell_type": "code",
   "execution_count": 13,
   "id": "1cf5d8c5",
   "metadata": {},
   "outputs": [],
   "source": [
    "# Turn extracted data into a pandas geodataframe\n",
    "chm_df = gpd.GeoDataFrame.from_features(extracted_chm)\n",
    "\n",
    "\n",
    "\n",
    "chm_df = chm_df.rename(columns = {\"min\": \"chm_min\",\n",
    "                      \"max\": \"chm_max\",\n",
    "                      \"mean\": \"chm_mean\",\n",
    "                      \"median\": \"chm_median\",\n",
    "                    \"percentile_25\": \"chm_25_percentile\",\n",
    "                    \"percentile_75\": \"chm_75_percentile\"})"
   ]
  },
  {
   "cell_type": "code",
   "execution_count": 14,
   "id": "13726667",
   "metadata": {},
   "outputs": [],
   "source": [
    "# Extract NTA zonal stats from carbon density\n",
    "# Extract zonal stats from chm\n",
    "extracted_cd = rs.zonal_stats(NTA_path,\n",
    "                               cd.values,\n",
    "                               affine=cd.rio.transform(),\n",
    "                               nodata = -math.inf,\n",
    "                               geojson_out=True,\n",
    "                               copy_properties=True,\n",
    "                               stats=\"min mean max median percentile_25 percentile_75\")"
   ]
  },
  {
   "cell_type": "code",
   "execution_count": 15,
   "id": "cc195737",
   "metadata": {},
   "outputs": [],
   "source": [
    "# Turn extracted data into a pandas geodataframe\n",
    "cd_df = gpd.GeoDataFrame.from_features(extracted_cd)\n",
    "\n",
    "\n",
    "\n",
    "cd_df = cd_df.rename(columns = {\"min\": \"cd_min\",\n",
    "                      \"max\": \"cd_max\",\n",
    "                      \"mean\": \"cd_mean\",\n",
    "                      \"median\": \"cd_median\",\n",
    "                    \"percentile_25\": \"cd_25_percentile\",\n",
    "                    \"percentile_75\": \"cd_75_percentile\"})"
   ]
  },
  {
   "cell_type": "code",
   "execution_count": 47,
   "id": "5d7ed5e6",
   "metadata": {},
   "outputs": [],
   "source": [
    "# Extract NTA zonal stats from canopy area\n",
    "# Extract zonal stats from chm\n",
    "extracted_ca = rs.zonal_stats(NTA_path,\n",
    "                               ca.values,\n",
    "                               affine=ca.rio.transform(),\n",
    "                               nodata = -math.inf,\n",
    "                               geojson_out=True,\n",
    "                               copy_properties=True,\n",
    "                               stats=\"min mean max median percentile_25 percentile_75\")\n",
    "\n",
    "# Turn extracted data into a pandas geodataframe\n",
    "ca_df = gpd.GeoDataFrame.from_features(extracted_ca)\n",
    "\n",
    "\n",
    "\n",
    "ca_df = ca_df.rename(columns = {\"min\": \"cc_min\",\n",
    "                      \"max\": \"cc_max\",\n",
    "                      \"mean\": \"cc_mean\",\n",
    "                      \"median\": \"cc_median\",\n",
    "                    \"percentile_25\": \"cc_25_percentile\",\n",
    "                    \"percentile_75\": \"cc_75_percentile\"})\n",
    "\n",
    "ca_df.drop('geometry', axis = 1, inplace = True)"
   ]
  },
  {
   "cell_type": "code",
   "execution_count": 48,
   "id": "01453a85",
   "metadata": {},
   "outputs": [],
   "source": [
    "# Extract NTA zonal stats from tree density\n",
    "# Extract zonal stats from chm\n",
    "extracted_td = rs.zonal_stats(NTA_path,\n",
    "                               td.values,\n",
    "                               affine=td.rio.transform(),\n",
    "                               nodata = -math.inf,\n",
    "                               geojson_out=True,\n",
    "                               copy_properties=True,\n",
    "                               stats=\"min mean max median percentile_25 percentile_75\")\n",
    "\n",
    "# Turn extracted data into a pandas geodataframe\n",
    "td_df = gpd.GeoDataFrame.from_features(extracted_td)\n",
    "\n",
    "\n",
    "\n",
    "td_df = td_df.rename(columns = {\"min\": \"td_min\",\n",
    "                      \"max\": \"td_max\",\n",
    "                      \"mean\": \"td_mean\",\n",
    "                      \"median\": \"td_median\",\n",
    "                    \"percentile_25\": \"td_25_percentile\",\n",
    "                    \"percentile_75\": \"td_75_percentile\"})\n",
    "\n",
    "td_df.drop('geometry', axis = 1, inplace = True)"
   ]
  },
  {
   "cell_type": "code",
   "execution_count": 49,
   "id": "ccec4855",
   "metadata": {},
   "outputs": [],
   "source": [
    "# Extract NTA zonal stats from subsidized housing kde\n",
    "# Extract zonal stats from chm\n",
    "extracted_sub = rs.zonal_stats(NTA_path,\n",
    "                               sub_kde_scaled.values,\n",
    "                               affine=sub_kde_scaled.rio.transform(),\n",
    "                               nodata = -math.inf,\n",
    "                               geojson_out=True,\n",
    "                               copy_properties=True,\n",
    "                               stats=\"min mean max median percentile_25 percentile_75\")\n",
    "\n",
    "# Turn extracted data into a pandas geodataframe\n",
    "sub_df = gpd.GeoDataFrame.from_features(extracted_sub)\n",
    "\n",
    "\n",
    "\n",
    "sub_df = sub_df.rename(columns = {\"min\": \"sub_min\",\n",
    "                      \"max\": \"sub_max\",\n",
    "                      \"mean\": \"sub_mean\",\n",
    "                      \"median\": \"sub_median\",\n",
    "                    \"percentile_25\": \"sub_25_percentile\",\n",
    "                    \"percentile_75\": \"sub_75_percentile\"})\n",
    "\n",
    "sub_df.drop('geometry', axis = 1, inplace = True)"
   ]
  },
  {
   "cell_type": "code",
   "execution_count": 50,
   "id": "aa271c68",
   "metadata": {},
   "outputs": [],
   "source": [
    "# Extract NTA zonal stats from rent stabilized housing kde\n",
    "# Extract zonal stats from chm\n",
    "extracted_rstab = rs.zonal_stats(NTA_path,\n",
    "                               rstab_kde_scaled.values,\n",
    "                               affine=rstab_kde_scaled.rio.transform(),\n",
    "                               nodata = -math.inf,\n",
    "                               geojson_out=True,\n",
    "                               copy_properties=True,\n",
    "                               stats=\"min mean max median percentile_25 percentile_75\")\n",
    "\n",
    "# Turn extracted data into a pandas geodataframe\n",
    "rstab_df = gpd.GeoDataFrame.from_features(extracted_rstab)\n",
    "\n",
    "\n",
    "\n",
    "rstab_df = rstab_df.rename(columns = {\"min\": \"rstab_min\",\n",
    "                      \"max\": \"rstab_max\",\n",
    "                      \"mean\": \"rstab_mean\",\n",
    "                      \"median\": \"rstab_median\",\n",
    "                    \"percentile_25\": \"rstab_25_percentile\",\n",
    "                    \"percentile_75\": \"rstab_75_percentile\"})\n",
    "rstab_df.drop('geometry', axis = 1, inplace = True)\n"
   ]
  },
  {
   "cell_type": "code",
   "execution_count": 51,
   "id": "f4354c18",
   "metadata": {},
   "outputs": [],
   "source": [
    "# ALL affordable housing\n",
    "extracted_aff = rs.zonal_stats(NTA_path,\n",
    "                               aff_kde_scaled.values,\n",
    "                               affine=aff_kde_scaled.rio.transform(),\n",
    "                               nodata = -math.inf,\n",
    "                               geojson_out=True,\n",
    "                               copy_properties=True,\n",
    "                               stats=\"min mean max median percentile_25 percentile_75\")\n",
    "\n",
    "# Turn extracted data into a pandas geodataframe\n",
    "aff_df = gpd.GeoDataFrame.from_features(extracted_aff)\n",
    "\n",
    "\n",
    "\n",
    "aff_df = aff_df.rename(columns = {\"min\": \"aff_min\",\n",
    "                      \"max\": \"aff_max\",\n",
    "                      \"mean\": \"aff_mean\",\n",
    "                      \"median\": \"aff_median\",\n",
    "                    \"percentile_25\": \"aff_25_percentile\",\n",
    "                    \"percentile_75\": \"aff_75_percentile\"})\n",
    "aff_df.drop('geometry', axis = 1, inplace = True)"
   ]
  },
  {
   "cell_type": "code",
   "execution_count": 52,
   "id": "b4e44d40",
   "metadata": {},
   "outputs": [],
   "source": [
    "# ALL hean anomalies\n",
    "extracted_ha = rs.zonal_stats(NTA_path,\n",
    "                               ha.values,\n",
    "                               affine=ha.rio.transform(),\n",
    "                               nodata = -math.inf,\n",
    "                               geojson_out=True,\n",
    "                               copy_properties=True,\n",
    "                               stats=\"min mean max median percentile_25 percentile_75\")\n",
    "\n",
    "# Turn extracted data into a pandas geodataframe\n",
    "ha_df = gpd.GeoDataFrame.from_features(extracted_ha)\n",
    "\n",
    "\n",
    "\n",
    "ha_df = ha_df.rename(columns = {\"min\": \"ha_min\",\n",
    "                      \"max\": \"ha_max\",\n",
    "                      \"mean\": \"ha_mean\",\n",
    "                      \"median\": \"ha_median\",\n",
    "                    \"percentile_25\": \"ha_25_percentile\",\n",
    "                    \"percentile_75\": \"ha_75_percentile\"})\n",
    "ha_df.drop('geometry', axis = 1, inplace = True)"
   ]
  },
  {
   "cell_type": "code",
   "execution_count": 53,
   "id": "621435d3",
   "metadata": {},
   "outputs": [
    {
     "data": {
      "text/plain": [
       "True"
      ]
     },
     "execution_count": 53,
     "metadata": {},
     "output_type": "execute_result"
    }
   ],
   "source": [
    "# MERGE\n",
    "\n",
    "housing = pd.merge(rstab_df, sub_df, on=\"ntacode\")\n",
    "\n",
    "housing = pd.merge(housing, aff_df, on = \"ntacode\")\n",
    "len(housing) == len(rstab_df) == len(sub_df) == len(aff_df)"
   ]
  },
  {
   "cell_type": "code",
   "execution_count": 54,
   "id": "6bd3cc75",
   "metadata": {},
   "outputs": [
    {
     "data": {
      "text/plain": [
       "Index(['ntacode', 'rstab_min', 'rstab_max', 'rstab_mean', 'rstab_median',\n",
       "       'rstab_25_percentile', 'rstab_75_percentile', 'sub_min', 'sub_max',\n",
       "       'sub_mean', 'sub_median', 'sub_25_percentile', 'sub_75_percentile',\n",
       "       'aff_min', 'aff_max', 'aff_mean', 'aff_median', 'aff_25_percentile',\n",
       "       'aff_75_percentile'],\n",
       "      dtype='object')"
      ]
     },
     "execution_count": 54,
     "metadata": {},
     "output_type": "execute_result"
    }
   ],
   "source": [
    "housing.columns"
   ]
  },
  {
   "cell_type": "code",
   "execution_count": 55,
   "id": "8a927793",
   "metadata": {},
   "outputs": [],
   "source": [
    "# merge tree and temp anomoly data\n",
    "trees = pd.merge(chm_df, td_df, on=\"ntacode\")\n",
    "trees = pd.merge(trees, ca_df, on = \"ntacode\")\n",
    "trees = pd.merge(trees, cd_df, on = \"ntacode\")\n",
    "trees = pd.merge(trees, ha_df, on = 'ntacode')\n"
   ]
  },
  {
   "cell_type": "code",
   "execution_count": 56,
   "id": "3a9901ef",
   "metadata": {},
   "outputs": [],
   "source": [
    "# merge full\n",
    "full = pd.merge(trees, housing, on = \"ntacode\")"
   ]
  },
  {
   "cell_type": "code",
   "execution_count": 57,
   "id": "e20138f7",
   "metadata": {},
   "outputs": [
    {
     "data": {
      "text/plain": [
       "Index(['geometry', 'ntacode', 'chm_min', 'chm_max', 'chm_mean', 'chm_median',\n",
       "       'chm_25_percentile', 'chm_75_percentile', 'td_min', 'td_max', 'td_mean',\n",
       "       'td_median', 'td_25_percentile', 'td_75_percentile', 'cc_min', 'cc_max',\n",
       "       'cc_mean', 'cc_median', 'cc_25_percentile', 'cc_75_percentile',\n",
       "       'cd_min', 'cd_max', 'cd_mean', 'cd_median', 'cd_25_percentile',\n",
       "       'cd_75_percentile', 'ha_min', 'ha_max', 'ha_mean', 'ha_median',\n",
       "       'ha_25_percentile', 'ha_75_percentile', 'rstab_min', 'rstab_max',\n",
       "       'rstab_mean', 'rstab_median', 'rstab_25_percentile',\n",
       "       'rstab_75_percentile', 'sub_min', 'sub_max', 'sub_mean', 'sub_median',\n",
       "       'sub_25_percentile', 'sub_75_percentile', 'aff_min', 'aff_max',\n",
       "       'aff_mean', 'aff_median', 'aff_25_percentile', 'aff_75_percentile'],\n",
       "      dtype='object')"
      ]
     },
     "execution_count": 57,
     "metadata": {},
     "output_type": "execute_result"
    }
   ],
   "source": [
    "full.columns"
   ]
  },
  {
   "cell_type": "code",
   "execution_count": 60,
   "id": "c893ad04",
   "metadata": {},
   "outputs": [],
   "source": [
    "full_df = pd.DataFrame(full)"
   ]
  },
  {
   "cell_type": "code",
   "execution_count": 64,
   "id": "e33ac72a",
   "metadata": {},
   "outputs": [
    {
     "data": {
      "text/html": [
       "<div>\n",
       "<style scoped>\n",
       "    .dataframe tbody tr th:only-of-type {\n",
       "        vertical-align: middle;\n",
       "    }\n",
       "\n",
       "    .dataframe tbody tr th {\n",
       "        vertical-align: top;\n",
       "    }\n",
       "\n",
       "    .dataframe thead th {\n",
       "        text-align: right;\n",
       "    }\n",
       "</style>\n",
       "<table border=\"1\" class=\"dataframe\">\n",
       "  <thead>\n",
       "    <tr style=\"text-align: right;\">\n",
       "      <th></th>\n",
       "      <th>geometry</th>\n",
       "      <th>ntacode</th>\n",
       "      <th>chm_min</th>\n",
       "      <th>chm_max</th>\n",
       "      <th>chm_mean</th>\n",
       "      <th>chm_median</th>\n",
       "      <th>chm_25_percentile</th>\n",
       "      <th>chm_75_percentile</th>\n",
       "      <th>td_min</th>\n",
       "      <th>td_max</th>\n",
       "      <th>...</th>\n",
       "      <th>sub_mean</th>\n",
       "      <th>sub_median</th>\n",
       "      <th>sub_25_percentile</th>\n",
       "      <th>sub_75_percentile</th>\n",
       "      <th>aff_min</th>\n",
       "      <th>aff_max</th>\n",
       "      <th>aff_mean</th>\n",
       "      <th>aff_median</th>\n",
       "      <th>aff_25_percentile</th>\n",
       "      <th>aff_75_percentile</th>\n",
       "    </tr>\n",
       "  </thead>\n",
       "  <tbody>\n",
       "    <tr>\n",
       "      <th>0</th>\n",
       "      <td>POLYGON ((605421.903 4506784.225, 605448.810 4...</td>\n",
       "      <td>QN08</td>\n",
       "      <td>21.0</td>\n",
       "      <td>310.0</td>\n",
       "      <td>104.842549</td>\n",
       "      <td>102.0</td>\n",
       "      <td>67.0</td>\n",
       "      <td>140.0</td>\n",
       "      <td>-0.861108</td>\n",
       "      <td>-0.570612</td>\n",
       "      <td>...</td>\n",
       "      <td>-0.998390</td>\n",
       "      <td>-0.999623</td>\n",
       "      <td>-0.999945</td>\n",
       "      <td>-0.997748</td>\n",
       "      <td>-0.999967</td>\n",
       "      <td>-0.919046</td>\n",
       "      <td>-0.983191</td>\n",
       "      <td>-0.989676</td>\n",
       "      <td>-0.996343</td>\n",
       "      <td>-0.975634</td>\n",
       "    </tr>\n",
       "    <tr>\n",
       "      <th>1</th>\n",
       "      <td>POLYGON ((593764.952 4526515.005, 593765.373 4...</td>\n",
       "      <td>BX28</td>\n",
       "      <td>21.0</td>\n",
       "      <td>596.0</td>\n",
       "      <td>116.107804</td>\n",
       "      <td>115.0</td>\n",
       "      <td>73.0</td>\n",
       "      <td>155.0</td>\n",
       "      <td>-0.879047</td>\n",
       "      <td>0.029427</td>\n",
       "      <td>...</td>\n",
       "      <td>-0.870812</td>\n",
       "      <td>-0.882188</td>\n",
       "      <td>-0.943205</td>\n",
       "      <td>-0.809557</td>\n",
       "      <td>-0.995159</td>\n",
       "      <td>-0.653790</td>\n",
       "      <td>-0.880516</td>\n",
       "      <td>-0.889148</td>\n",
       "      <td>-0.951447</td>\n",
       "      <td>-0.831231</td>\n",
       "    </tr>\n",
       "    <tr>\n",
       "      <th>2</th>\n",
       "      <td>POLYGON ((600917.576 4504246.165, 600939.518 4...</td>\n",
       "      <td>QN55</td>\n",
       "      <td>21.0</td>\n",
       "      <td>320.0</td>\n",
       "      <td>98.258749</td>\n",
       "      <td>94.0</td>\n",
       "      <td>63.0</td>\n",
       "      <td>131.0</td>\n",
       "      <td>-0.943098</td>\n",
       "      <td>-0.635548</td>\n",
       "      <td>...</td>\n",
       "      <td>-0.959981</td>\n",
       "      <td>-0.963207</td>\n",
       "      <td>-0.985469</td>\n",
       "      <td>-0.939123</td>\n",
       "      <td>-0.999932</td>\n",
       "      <td>-0.947430</td>\n",
       "      <td>-0.987632</td>\n",
       "      <td>-0.994901</td>\n",
       "      <td>-0.998649</td>\n",
       "      <td>-0.979581</td>\n",
       "    </tr>\n",
       "    <tr>\n",
       "      <th>3</th>\n",
       "      <td>POLYGON ((586207.563 4501643.060, 586204.695 4...</td>\n",
       "      <td>BK40</td>\n",
       "      <td>21.0</td>\n",
       "      <td>494.0</td>\n",
       "      <td>103.394134</td>\n",
       "      <td>102.0</td>\n",
       "      <td>72.0</td>\n",
       "      <td>131.0</td>\n",
       "      <td>-0.811371</td>\n",
       "      <td>-0.446587</td>\n",
       "      <td>...</td>\n",
       "      <td>-0.421639</td>\n",
       "      <td>-0.422500</td>\n",
       "      <td>-0.503374</td>\n",
       "      <td>-0.348141</td>\n",
       "      <td>-0.908128</td>\n",
       "      <td>-0.380261</td>\n",
       "      <td>-0.706230</td>\n",
       "      <td>-0.777376</td>\n",
       "      <td>-0.855010</td>\n",
       "      <td>-0.552042</td>\n",
       "    </tr>\n",
       "    <tr>\n",
       "      <th>4</th>\n",
       "      <td>MULTIPOLYGON (((593990.695 4500133.738, 593989...</td>\n",
       "      <td>BK50</td>\n",
       "      <td>21.0</td>\n",
       "      <td>492.0</td>\n",
       "      <td>96.785540</td>\n",
       "      <td>95.0</td>\n",
       "      <td>64.0</td>\n",
       "      <td>126.0</td>\n",
       "      <td>-0.993603</td>\n",
       "      <td>-0.599328</td>\n",
       "      <td>...</td>\n",
       "      <td>-0.836995</td>\n",
       "      <td>-0.858412</td>\n",
       "      <td>-0.924801</td>\n",
       "      <td>-0.774021</td>\n",
       "      <td>-0.999629</td>\n",
       "      <td>-0.825703</td>\n",
       "      <td>-0.978464</td>\n",
       "      <td>-0.988881</td>\n",
       "      <td>-0.991963</td>\n",
       "      <td>-0.975810</td>\n",
       "    </tr>\n",
       "  </tbody>\n",
       "</table>\n",
       "<p>5 rows × 50 columns</p>\n",
       "</div>"
      ],
      "text/plain": [
       "                                            geometry ntacode  chm_min  \\\n",
       "0  POLYGON ((605421.903 4506784.225, 605448.810 4...    QN08     21.0   \n",
       "1  POLYGON ((593764.952 4526515.005, 593765.373 4...    BX28     21.0   \n",
       "2  POLYGON ((600917.576 4504246.165, 600939.518 4...    QN55     21.0   \n",
       "3  POLYGON ((586207.563 4501643.060, 586204.695 4...    BK40     21.0   \n",
       "4  MULTIPOLYGON (((593990.695 4500133.738, 593989...    BK50     21.0   \n",
       "\n",
       "   chm_max    chm_mean  chm_median  chm_25_percentile  chm_75_percentile  \\\n",
       "0    310.0  104.842549       102.0               67.0              140.0   \n",
       "1    596.0  116.107804       115.0               73.0              155.0   \n",
       "2    320.0   98.258749        94.0               63.0              131.0   \n",
       "3    494.0  103.394134       102.0               72.0              131.0   \n",
       "4    492.0   96.785540        95.0               64.0              126.0   \n",
       "\n",
       "     td_min    td_max  ...  sub_mean  sub_median  sub_25_percentile  \\\n",
       "0 -0.861108 -0.570612  ... -0.998390   -0.999623          -0.999945   \n",
       "1 -0.879047  0.029427  ... -0.870812   -0.882188          -0.943205   \n",
       "2 -0.943098 -0.635548  ... -0.959981   -0.963207          -0.985469   \n",
       "3 -0.811371 -0.446587  ... -0.421639   -0.422500          -0.503374   \n",
       "4 -0.993603 -0.599328  ... -0.836995   -0.858412          -0.924801   \n",
       "\n",
       "   sub_75_percentile   aff_min   aff_max  aff_mean  aff_median  \\\n",
       "0          -0.997748 -0.999967 -0.919046 -0.983191   -0.989676   \n",
       "1          -0.809557 -0.995159 -0.653790 -0.880516   -0.889148   \n",
       "2          -0.939123 -0.999932 -0.947430 -0.987632   -0.994901   \n",
       "3          -0.348141 -0.908128 -0.380261 -0.706230   -0.777376   \n",
       "4          -0.774021 -0.999629 -0.825703 -0.978464   -0.988881   \n",
       "\n",
       "   aff_25_percentile  aff_75_percentile  \n",
       "0          -0.996343          -0.975634  \n",
       "1          -0.951447          -0.831231  \n",
       "2          -0.998649          -0.979581  \n",
       "3          -0.855010          -0.552042  \n",
       "4          -0.991963          -0.975810  \n",
       "\n",
       "[5 rows x 50 columns]"
      ]
     },
     "execution_count": 64,
     "metadata": {},
     "output_type": "execute_result"
    }
   ],
   "source": [
    "full_df.head()"
   ]
  },
  {
   "cell_type": "code",
   "execution_count": 63,
   "id": "d73e3e3d",
   "metadata": {},
   "outputs": [],
   "source": [
    "full_df.to_csv(\"../data/L1/NYC_NTA_extracted.csv\")"
   ]
  },
  {
   "cell_type": "code",
   "execution_count": null,
   "id": "89fa1d4e",
   "metadata": {},
   "outputs": [],
   "source": []
  }
 ],
 "metadata": {
  "kernelspec": {
   "display_name": "Python 3 (ipykernel)",
   "language": "python",
   "name": "python3"
  },
  "language_info": {
   "codemirror_mode": {
    "name": "ipython",
    "version": 3
   },
   "file_extension": ".py",
   "mimetype": "text/x-python",
   "name": "python",
   "nbconvert_exporter": "python",
   "pygments_lexer": "ipython3",
   "version": "3.9.13"
  }
 },
 "nbformat": 4,
 "nbformat_minor": 5
}

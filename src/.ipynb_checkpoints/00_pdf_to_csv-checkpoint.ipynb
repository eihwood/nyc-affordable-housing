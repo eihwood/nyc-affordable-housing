{
 "cells": [
  {
   "cell_type": "code",
   "execution_count": null,
   "id": "d01b1ed4",
   "metadata": {},
   "outputs": [],
   "source": [
    "import tabula as tab\n",
    "import pandas as pd\n",
    "\n",
    "\n",
    "pdf_path = '../data/rent_control_pdf/'\n"
   ]
  },
  {
   "cell_type": "code",
   "execution_count": null,
   "id": "2f60c17c",
   "metadata": {},
   "outputs": [],
   "source": [
    "# convert batch to csv\n",
    "tab.convert_into_by_batch(pdf_path, output_format='csv', pages = 'all')\n"
   ]
  },
  {
   "cell_type": "code",
   "execution_count": 26,
   "id": "fadf6613",
   "metadata": {},
   "outputs": [
    {
     "name": "stdout",
     "output_type": "stream",
     "text": [
      "['../data/rent_control_pdf/2020-DHCR-Bldg-Manhattan.csv', '../data/rent_control_pdf/2020-DHCR-Bldg-Staten-Island.csv', '../data/rent_control_pdf/2020-DHCR-Bldg-Queens.csv', '../data/rent_control_pdf/2020-DHCR-Bldg-Brooklyn.csv', '../data/rent_control_pdf/2020-DHCR-Bldg-Bronx.csv']\n",
      "Staten\n",
      "../data/L1/2020-DHCR-Bldg-Staten_geocoded.csv\n"
     ]
    }
   ],
   "source": [
    "# get list of files\n",
    "import glob\n",
    "import re\n",
    "\n",
    "# load the py function to geocode\n",
    "%run geocode_buildings_function.py\n",
    "\n",
    "files = glob.glob(\"../data/rent_control_pdf/*.csv\")\n",
    "print(files)"
   ]
  },
  {
   "cell_type": "code",
   "execution_count": null,
   "id": "d67a4dab",
   "metadata": {},
   "outputs": [],
   "source": [
    "\n",
    "# apply geocode function to each boro file\n",
    "# Staten Island\n",
    "outnames = files[1].split('-')[3]\n",
    "print(outnames)\n",
    "\n",
    "fileout = \"../data/L1/2020-DHCR-Bldg-\" + outnames + \"_geocoded.csv\"\n",
    "print(fileout)\n",
    "\n",
    "for file in files:\n",
    "    geocode_func(filename = files[1], fileout = fileout)"
   ]
  }
 ],
 "metadata": {
  "kernelspec": {
   "display_name": "Python 3 (ipykernel)",
   "language": "python",
   "name": "python3"
  },
  "language_info": {
   "codemirror_mode": {
    "name": "ipython",
    "version": 3
   },
   "file_extension": ".py",
   "mimetype": "text/x-python",
   "name": "python",
   "nbconvert_exporter": "python",
   "pygments_lexer": "ipython3",
   "version": "3.9.13"
  }
 },
 "nbformat": 4,
 "nbformat_minor": 5
}

{
 "cells": [
  {
   "cell_type": "code",
   "execution_count": 1,
   "id": "4cf670f7",
   "metadata": {},
   "outputs": [],
   "source": [
    "import pandas as pd\n",
    "import numpy as np\n",
    "import geopandas as gpd\n",
    "\n",
    "from geocube.api.core import make_geocube\n",
    "from geocube.rasterize import rasterize_image\n",
    "from functools import partial\n",
    "from rasterio.enums import MergeAlg\n",
    "\n",
    "import glob\n",
    "import os"
   ]
  },
  {
   "cell_type": "markdown",
   "id": "97013521",
   "metadata": {},
   "source": [
    "# Load Data"
   ]
  },
  {
   "cell_type": "markdown",
   "id": "ac502447",
   "metadata": {},
   "source": [
    "## Rent controlled and stabilized buildings"
   ]
  },
  {
   "cell_type": "code",
   "execution_count": 51,
   "id": "097d6a03",
   "metadata": {},
   "outputs": [],
   "source": [
    "file_list = glob.glob(os.path.join(\"../data/L1/geocoded/\", \"*.csv\"))\n",
    "\n",
    "file_list\n",
    "rent_stabilized_L = [pd.read_csv(file, sep = \"\\t\") for file in file_list]\n",
    "rent_stabilized = (pd.concat(rent_stabilized_L)\n",
    "                   .query(\"ZIP!='ZIP'&STATUS1!='MULTIPLE DWELLING B'\")\n",
    "                  .loc[:,[\"loc\", \"lat\", \"lon\"]]\n",
    "                   .drop_duplicates(\"loc\")\n",
    "                   .dropna(subset = ['lat', 'lon'])\n",
    "                  )\n",
    "\n",
    "\n",
    "# assign each row a value of one to indicate the num of rent controlled locs (per row) for point density below\n",
    "rent_stabilized['value'] = 1\n",
    "\n",
    "rs_gpd = gpd.GeoDataFrame(rent_stabilized, geometry = gpd.points_from_xy(rent_stabilized.lon, rent_stabilized.lat), crs=4326)\n",
    "\n",
    "\n",
    "# Transform to metered projection\n",
    "# NAD83 (National Spatial Reference System 2011) Universal Transverse Mercator Zone 18 North projection\n",
    "rs_gpd = rs_gpd.to_crs(6347)"
   ]
  },
  {
   "cell_type": "code",
   "execution_count": 52,
   "id": "6f320d3c",
   "metadata": {},
   "outputs": [
    {
     "data": {
      "text/plain": [
       "geopandas.geodataframe.GeoDataFrame"
      ]
     },
     "execution_count": 52,
     "metadata": {},
     "output_type": "execute_result"
    }
   ],
   "source": [
    "type(rs_gpd)"
   ]
  },
  {
   "cell_type": "code",
   "execution_count": 53,
   "id": "ea096f9f",
   "metadata": {},
   "outputs": [],
   "source": [
    "# Create point density (sum of trees per 100m^2 grid cell)\n",
    "pt_density = make_geocube(vector_data = rs_gpd,\n",
    "                           measurements = ['value'],\n",
    "                           resolution = (-100,100), # hectare resolution\n",
    "                           rasterize_function = partial(rasterize_image, merge_alg = MergeAlg.add),\n",
    "                           fill = 0) "
   ]
  },
  {
   "cell_type": "code",
   "execution_count": 55,
   "id": "bfda211a",
   "metadata": {},
   "outputs": [],
   "source": [
    "pt_density_ = pt_density/10000 # count / area"
   ]
  },
  {
   "cell_type": "code",
   "execution_count": 56,
   "id": "3f2303d0",
   "metadata": {},
   "outputs": [],
   "source": [
    "# Save rent stabilized point density\n",
    "pt_density_.rio.to_raster('../data/L1/rent_stabilized_pointdens_ha.tiff')"
   ]
  },
  {
   "cell_type": "code",
   "execution_count": null,
   "id": "c6610809",
   "metadata": {},
   "outputs": [],
   "source": []
  }
 ],
 "metadata": {
  "kernelspec": {
   "display_name": "Python 3 (ipykernel)",
   "language": "python",
   "name": "python3"
  },
  "language_info": {
   "codemirror_mode": {
    "name": "ipython",
    "version": 3
   },
   "file_extension": ".py",
   "mimetype": "text/x-python",
   "name": "python",
   "nbconvert_exporter": "python",
   "pygments_lexer": "ipython3",
   "version": "3.9.13"
  }
 },
 "nbformat": 4,
 "nbformat_minor": 5
}

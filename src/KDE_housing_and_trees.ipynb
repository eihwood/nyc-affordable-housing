{
 "cells": [
  {
   "cell_type": "code",
   "execution_count": 2,
   "id": "aa542b86",
   "metadata": {},
   "outputs": [],
   "source": [
    "from sklearn.neighbors import KernelDensity\n",
    "import pandas as pd\n",
    "import numpy as np\n",
    "import geopandas as gpd\n",
    "\n",
    "from __future__ import print_function\n",
    "\n",
    "\n",
    "import matplotlib.pyplot as plt\n",
    "import matplotlib.tri as tri\n",
    "from statsmodels.nonparametric.kernel_density import KDEMultivariate\n",
    "\n",
    "\n"
   ]
  },
  {
   "cell_type": "code",
   "execution_count": null,
   "id": "3a3b9b62",
   "metadata": {},
   "outputs": [],
   "source": [
    "x = pd.read_csv(\"../data/L1/2020-DHCR-Bldg-Bronx_geocoded.csv\", sep = \"\\t\")\n",
    "x1 = pd.read_csv(\"../data/L1/2020-DHCR-Bldg-Brooklyn_geocoded.csv\", sep = \"\\t\")\n",
    "x2 = pd.read_csv(\"../data/L1/2020-DHCR-Bldg-Manhattan_geocoded.csv\", sep = \"\\t\")\n",
    "x3 = pd.read_csv(\"../data/L1/2020-DHCR-Bldg-Queens_geocoded.csv\", sep = \"\\t\")\n",
    "x4 = pd.read_csv(\"../data/L1/2020-DHCR-Bldg-Staten_geocoded.csv\", sep = \"\\t\")"
   ]
  },
  {
   "cell_type": "code",
   "execution_count": 3,
   "id": "36bd7309",
   "metadata": {},
   "outputs": [
    {
     "ename": "NameError",
     "evalue": "name 'x' is not defined",
     "output_type": "error",
     "traceback": [
      "\u001b[0;31m---------------------------------------------------------------------------\u001b[0m",
      "\u001b[0;31mNameError\u001b[0m                                 Traceback (most recent call last)",
      "\u001b[0;32m/var/folders/0p/rh9j3dm51wn8w8hpwmkfvqkw0000gn/T/ipykernel_28457/3804789693.py\u001b[0m in \u001b[0;36m<module>\u001b[0;34m\u001b[0m\n\u001b[0;32m----> 1\u001b[0;31m \u001b[0mdata\u001b[0m \u001b[0;34m=\u001b[0m \u001b[0mpd\u001b[0m\u001b[0;34m.\u001b[0m\u001b[0mconcat\u001b[0m\u001b[0;34m(\u001b[0m\u001b[0;34m[\u001b[0m\u001b[0mx\u001b[0m\u001b[0;34m,\u001b[0m \u001b[0mx1\u001b[0m\u001b[0;34m,\u001b[0m \u001b[0mx2\u001b[0m\u001b[0;34m,\u001b[0m \u001b[0mx3\u001b[0m\u001b[0;34m,\u001b[0m \u001b[0mx4\u001b[0m\u001b[0;34m]\u001b[0m\u001b[0;34m)\u001b[0m\u001b[0;34m\u001b[0m\u001b[0;34m\u001b[0m\u001b[0m\n\u001b[0m",
      "\u001b[0;31mNameError\u001b[0m: name 'x' is not defined"
     ]
    }
   ],
   "source": [
    "data = pd.concat([x, x1, x2, x3, x4])"
   ]
  },
  {
   "cell_type": "code",
   "execution_count": null,
   "id": "a7953fa0",
   "metadata": {},
   "outputs": [],
   "source": [
    "data.lat.describe()\n",
    "data.lon.describe()"
   ]
  },
  {
   "cell_type": "code",
   "execution_count": null,
   "id": "74cd0dcb",
   "metadata": {},
   "outputs": [],
   "source": [
    "# plot as gut check\n",
    "gdf = gpd.GeoDataFrame(data=data, crs=4326, geometry = gpd.points_from_xy(data.lon, data.lat))"
   ]
  },
  {
   "cell_type": "code",
   "execution_count": null,
   "id": "2dcc5698",
   "metadata": {},
   "outputs": [],
   "source": [
    "\n",
    "# Transform data to metered projection (use the same as in the tree dens models)\n",
    "# UTM zone: crs = 6347\n",
    "\n",
    "gdf = gdf.to_crs(crs = 6347)\n",
    "\n",
    "gdf.plot() # story checks out\n"
   ]
  },
  {
   "cell_type": "code",
   "execution_count": null,
   "id": "ee8c9556",
   "metadata": {},
   "outputs": [],
   "source": [
    "gdf.geometry.x"
   ]
  },
  {
   "cell_type": "code",
   "execution_count": null,
   "id": "ec8bfedb",
   "metadata": {},
   "outputs": [],
   "source": [
    "# Kernel Density estimation (statsmodels) - cross validated maximum likelihood estimator\n",
    "\n",
    "model = KDEMultivariate(data=[gdf.geometry.x, gdf.geometry.y], var_type = 'cc', bw = 'cv_ml')\n",
    "\n",
    "# cross validation maximum likelihood bandwidth selection\n",
    "print('Bandwidth:', model.bw)\n",
    "zi = model.pdf()"
   ]
  },
  {
   "cell_type": "code",
   "execution_count": null,
   "id": "604e93ad",
   "metadata": {},
   "outputs": [],
   "source": [
    "type(gdf)"
   ]
  },
  {
   "cell_type": "code",
   "execution_count": null,
   "id": "33a1897e",
   "metadata": {},
   "outputs": [],
   "source": [
    "gdf.geometry.y"
   ]
  },
  {
   "cell_type": "code",
   "execution_count": null,
   "id": "c17dfad7",
   "metadata": {},
   "outputs": [],
   "source": []
  }
 ],
 "metadata": {
  "kernelspec": {
   "display_name": "Python 3 (ipykernel)",
   "language": "python",
   "name": "python3"
  },
  "language_info": {
   "codemirror_mode": {
    "name": "ipython",
    "version": 3
   },
   "file_extension": ".py",
   "mimetype": "text/x-python",
   "name": "python",
   "nbconvert_exporter": "python",
   "pygments_lexer": "ipython3",
   "version": "3.9.13"
  }
 },
 "nbformat": 4,
 "nbformat_minor": 5
}
